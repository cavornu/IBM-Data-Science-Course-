{
  "cells": [
    {
      "cell_type": "markdown",
      "metadata": {
        "id": "i8AuABoJ1hd-"
      },
      "source": [
        "**Data Science Tools and Ecosystem**\n",
        "\n",
        "\n"
      ]
    },
    {
      "cell_type": "markdown",
      "metadata": {
        "id": "epN1F1gx28jc"
      },
      "source": [
        "In this notebook, Data Science Tools and Ecosystem are summarized."
      ]
    },
    {
      "cell_type": "markdown",
      "metadata": {
        "id": "Uvuwe7tLBRbH"
      },
      "source": [
        "**Objectives:**\n",
        "\n",
        "1.   List popular languages for Data Science\n",
        "2.   Commonly used Libraries\n",
        "3.   Data Science Tools\n",
        "\n"
      ]
    },
    {
      "cell_type": "markdown",
      "metadata": {
        "id": "5koS5ybw3M7a"
      },
      "source": [
        "Some of the popular languages that Data Scientists use are:\n",
        "\n",
        "1.   Pythen\n",
        "2.   Java\n",
        "3.   C++\n",
        "4.   SQL\n"
      ]
    },
    {
      "cell_type": "markdown",
      "metadata": {
        "id": "iZBcKc2d4HjS"
      },
      "source": [
        "Some of the commonly used libraries used by Data Scientists include:\n",
        "\n",
        "1.   TensorFlow\n",
        "2.   SciPy\n",
        "3.   Pandas\n",
        "4.   Numpy\n",
        "\n"
      ]
    },
    {
      "cell_type": "markdown",
      "metadata": {
        "id": "hRCj-g8F6U8c"
      },
      "source": [
        "| Data Science Tools    \n",
        "|----------            |\n",
        "| Jupyter Notebook     |\n",
        "| RStudio              |\n",
        "| Visual Studio Code   |"
      ]
    },
    {
      "cell_type": "markdown",
      "metadata": {
        "id": "3h_Tmv1z-iGS"
      },
      "source": [
        "###Below are a few examples of evaluating arithmetic expressions in Python"
      ]
    },
    {
      "cell_type": "code",
      "execution_count": 2,
      "metadata": {
        "colab": {
          "base_uri": "https://localhost:8080/"
        },
        "id": "TSSuI4zB1xLv",
        "outputId": "ea8fef48-7574-4d4f-f269-73c2645c629f"
      },
      "outputs": [
        {
          "data": {
            "text/plain": [
              "17"
            ]
          },
          "execution_count": 2,
          "metadata": {},
          "output_type": "execute_result"
        }
      ],
      "source": [
        "#This a simple arithmetic expression to mutiply then add integers\n",
        "(3*4)+5"
      ]
    },
    {
      "cell_type": "code",
      "execution_count": 4,
      "metadata": {
        "colab": {
          "base_uri": "https://localhost:8080/"
        },
        "id": "0QlAVLG7-15n",
        "outputId": "c0e65f2e-6d48-4402-f7cf-a64dec3e8ee2"
      },
      "outputs": [
        {
          "data": {
            "text/plain": [
              "3.3333333333333335"
            ]
          },
          "execution_count": 4,
          "metadata": {},
          "output_type": "execute_result"
        }
      ],
      "source": [
        "#This will convert 200 minutes to hours by diving by 60\n",
        "200/60\n"
      ]
    },
    {
      "cell_type": "code",
      "execution_count": null,
      "metadata": {
        "id": "4eZtMN8IA2Y3"
      },
      "outputs": [],
      "source": []
    },
    {
      "cell_type": "markdown",
      "metadata": {
        "id": "7bkG7ZWdCIh9"
      },
      "source": [
        "##Author\n",
        "Name: Christian Avornu"
      ]
    }
  ],
  "metadata": {
    "colab": {
      "provenance": []
    },
    "kernelspec": {
      "display_name": "Python 3",
      "name": "python3"
    },
    "language_info": {
      "codemirror_mode": {
        "name": "ipython",
        "version": 3
      },
      "file_extension": ".py",
      "mimetype": "text/x-python",
      "name": "python",
      "nbconvert_exporter": "python",
      "pygments_lexer": "ipython3",
      "version": "3.12.0"
    }
  },
  "nbformat": 4,
  "nbformat_minor": 0
}
